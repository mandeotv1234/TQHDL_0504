{
 "cells": [
  {
   "cell_type": "markdown",
   "metadata": {},
   "source": [
    "# Nhóm 6:\n",
    "## Thành viên nhóm:\n",
    "| MSSV         | Tên              | Gmail                |\n",
    "|--------------|------------------|----------------------|\n",
    "| 22120023    | Lê Nguyễn Gia Bảo (*)   | 22120023@student.hcmus.edu.vn  | \n",
    "| 22120201    | Huỳnh Mẫn         | 22120201@student.hcmus.edu.vn |\n",
    "| 22120208    | Hoàng Hồ Nhật Minh      | 22120208@student.hcmus.edu.vn |\n",
    "| 22120216    | Bùi Tấn Thành Nam       | 22120216@student.hcmus.edu.vn |\n",
    "| 22120295    | Hồ Minh Quang           | 22120295@student.hcmus.edu.vn |"
   ]
  },
  {
   "cell_type": "code",
   "execution_count": 1,
   "metadata": {},
   "outputs": [],
   "source": [
    "import numpy as np\n",
    "import pandas as pd\n",
    "import matplotlib.pyplot as plt"
   ]
  },
  {
   "cell_type": "code",
   "execution_count": 2,
   "metadata": {},
   "outputs": [
    {
     "data": {
      "text/html": [
       "<div>\n",
       "<style scoped>\n",
       "    .dataframe tbody tr th:only-of-type {\n",
       "        vertical-align: middle;\n",
       "    }\n",
       "\n",
       "    .dataframe tbody tr th {\n",
       "        vertical-align: top;\n",
       "    }\n",
       "\n",
       "    .dataframe thead th {\n",
       "        text-align: right;\n",
       "    }\n",
       "</style>\n",
       "<table border=\"1\" class=\"dataframe\">\n",
       "  <thead>\n",
       "    <tr style=\"text-align: right;\">\n",
       "      <th></th>\n",
       "      <th>Khu vực</th>\n",
       "      <th>Số người</th>\n",
       "      <th>Thu nhập</th>\n",
       "      <th>Chi tiêu</th>\n",
       "      <th>Chi ăn uống</th>\n",
       "    </tr>\n",
       "  </thead>\n",
       "  <tbody>\n",
       "    <tr>\n",
       "      <th>0</th>\n",
       "      <td>Thành thị</td>\n",
       "      <td>1</td>\n",
       "      <td>186.0</td>\n",
       "      <td>71.2</td>\n",
       "      <td>43.7</td>\n",
       "    </tr>\n",
       "    <tr>\n",
       "      <th>1</th>\n",
       "      <td>Thành thị</td>\n",
       "      <td>1</td>\n",
       "      <td>18.0</td>\n",
       "      <td>19.2</td>\n",
       "      <td>14.7</td>\n",
       "    </tr>\n",
       "    <tr>\n",
       "      <th>2</th>\n",
       "      <td>Thành thị</td>\n",
       "      <td>1</td>\n",
       "      <td>61.5</td>\n",
       "      <td>15.0</td>\n",
       "      <td>11.9</td>\n",
       "    </tr>\n",
       "    <tr>\n",
       "      <th>3</th>\n",
       "      <td>Thành thị</td>\n",
       "      <td>1</td>\n",
       "      <td>48.1</td>\n",
       "      <td>57.9</td>\n",
       "      <td>46.9</td>\n",
       "    </tr>\n",
       "    <tr>\n",
       "      <th>4</th>\n",
       "      <td>Thành thị</td>\n",
       "      <td>1</td>\n",
       "      <td>30.0</td>\n",
       "      <td>20.6</td>\n",
       "      <td>13.7</td>\n",
       "    </tr>\n",
       "  </tbody>\n",
       "</table>\n",
       "</div>"
      ],
      "text/plain": [
       "     Khu vực  Số người  Thu nhập  Chi tiêu  Chi ăn uống\n",
       "0  Thành thị         1     186.0      71.2         43.7\n",
       "1  Thành thị         1      18.0      19.2         14.7\n",
       "2  Thành thị         1      61.5      15.0         11.9\n",
       "3  Thành thị         1      48.1      57.9         46.9\n",
       "4  Thành thị         1      30.0      20.6         13.7"
      ]
     },
     "execution_count": 2,
     "metadata": {},
     "output_type": "execute_result"
    }
   ],
   "source": [
    "data = pd.read_excel('data-vn.xlsx', sheet_name='Data')\n",
    "data.head()"
   ]
  },
  {
   "cell_type": "code",
   "execution_count": 3,
   "metadata": {},
   "outputs": [],
   "source": [
    "def mean(col):\n",
    "    return col.mean()\n",
    "\n",
    "def std(col):\n",
    "    return col.std()\n",
    "\n",
    "def std(col):\n",
    "    return col.std()\n",
    "\n",
    "def lower_quartile(col):\n",
    "    return (col.quantile(0.25))\n",
    "\n",
    "def median(col):\n",
    "    return (col.median())\n",
    "\n",
    "def upper_quartile(col):\n",
    "    return (col.quantile(0.75))"
   ]
  },
  {
   "cell_type": "code",
   "execution_count": 4,
   "metadata": {},
   "outputs": [
    {
     "data": {
      "text/html": [
       "<div>\n",
       "<style scoped>\n",
       "    .dataframe tbody tr th:only-of-type {\n",
       "        vertical-align: middle;\n",
       "    }\n",
       "\n",
       "    .dataframe tbody tr th {\n",
       "        vertical-align: top;\n",
       "    }\n",
       "\n",
       "    .dataframe thead th {\n",
       "        text-align: right;\n",
       "    }\n",
       "</style>\n",
       "<table border=\"1\" class=\"dataframe\">\n",
       "  <thead>\n",
       "    <tr style=\"text-align: right;\">\n",
       "      <th></th>\n",
       "      <th>Số người</th>\n",
       "      <th>Thu nhập</th>\n",
       "      <th>Chi tiêu</th>\n",
       "      <th>Chi ăn uống</th>\n",
       "    </tr>\n",
       "  </thead>\n",
       "  <tbody>\n",
       "    <tr>\n",
       "      <th>mean</th>\n",
       "      <td>3.90</td>\n",
       "      <td>142.03</td>\n",
       "      <td>103.88</td>\n",
       "      <td>75.33</td>\n",
       "    </tr>\n",
       "    <tr>\n",
       "      <th>std</th>\n",
       "      <td>1.52</td>\n",
       "      <td>110.48</td>\n",
       "      <td>79.14</td>\n",
       "      <td>52.25</td>\n",
       "    </tr>\n",
       "    <tr>\n",
       "      <th>min</th>\n",
       "      <td>1.00</td>\n",
       "      <td>5.50</td>\n",
       "      <td>4.20</td>\n",
       "      <td>3.50</td>\n",
       "    </tr>\n",
       "    <tr>\n",
       "      <th>lower_quartile</th>\n",
       "      <td>3.00</td>\n",
       "      <td>66.42</td>\n",
       "      <td>51.08</td>\n",
       "      <td>37.58</td>\n",
       "    </tr>\n",
       "    <tr>\n",
       "      <th>median</th>\n",
       "      <td>4.00</td>\n",
       "      <td>111.10</td>\n",
       "      <td>81.50</td>\n",
       "      <td>59.50</td>\n",
       "    </tr>\n",
       "    <tr>\n",
       "      <th>upper_quartile</th>\n",
       "      <td>5.00</td>\n",
       "      <td>185.77</td>\n",
       "      <td>132.18</td>\n",
       "      <td>99.32</td>\n",
       "    </tr>\n",
       "    <tr>\n",
       "      <th>max</th>\n",
       "      <td>9.00</td>\n",
       "      <td>782.50</td>\n",
       "      <td>571.20</td>\n",
       "      <td>296.40</td>\n",
       "    </tr>\n",
       "  </tbody>\n",
       "</table>\n",
       "</div>"
      ],
      "text/plain": [
       "                Số người  Thu nhập  Chi tiêu  Chi ăn uống\n",
       "mean                3.90    142.03    103.88        75.33\n",
       "std                 1.52    110.48     79.14        52.25\n",
       "min                 1.00      5.50      4.20         3.50\n",
       "lower_quartile      3.00     66.42     51.08        37.58\n",
       "median              4.00    111.10     81.50        59.50\n",
       "upper_quartile      5.00    185.77    132.18        99.32\n",
       "max                 9.00    782.50    571.20       296.40"
      ]
     },
     "execution_count": 4,
     "metadata": {},
     "output_type": "execute_result"
    }
   ],
   "source": [
    "num_cols = data.select_dtypes(include=np.number)\n",
    "num_cols_stats = num_cols.agg([mean, std, 'min', lower_quartile, median, upper_quartile, 'max'])\n",
    "num_cols_stats.round(2)"
   ]
  },
  {
   "cell_type": "code",
   "execution_count": 5,
   "metadata": {},
   "outputs": [
    {
     "data": {
      "text/html": [
       "<div>\n",
       "<style scoped>\n",
       "    .dataframe tbody tr th:only-of-type {\n",
       "        vertical-align: middle;\n",
       "    }\n",
       "\n",
       "    .dataframe tbody tr th {\n",
       "        vertical-align: top;\n",
       "    }\n",
       "\n",
       "    .dataframe thead th {\n",
       "        text-align: right;\n",
       "    }\n",
       "</style>\n",
       "<table border=\"1\" class=\"dataframe\">\n",
       "  <thead>\n",
       "    <tr style=\"text-align: right;\">\n",
       "      <th></th>\n",
       "      <th>Số người</th>\n",
       "      <th>Thu nhập</th>\n",
       "      <th>Chi tiêu</th>\n",
       "      <th>Chi ăn uống</th>\n",
       "    </tr>\n",
       "  </thead>\n",
       "  <tbody>\n",
       "    <tr>\n",
       "      <th>count</th>\n",
       "      <td>420.000000</td>\n",
       "      <td>420.000000</td>\n",
       "      <td>420.000000</td>\n",
       "      <td>420.000000</td>\n",
       "    </tr>\n",
       "    <tr>\n",
       "      <th>mean</th>\n",
       "      <td>3.904762</td>\n",
       "      <td>142.034524</td>\n",
       "      <td>103.881905</td>\n",
       "      <td>75.329762</td>\n",
       "    </tr>\n",
       "    <tr>\n",
       "      <th>std</th>\n",
       "      <td>1.518533</td>\n",
       "      <td>110.477344</td>\n",
       "      <td>79.139046</td>\n",
       "      <td>52.249685</td>\n",
       "    </tr>\n",
       "    <tr>\n",
       "      <th>min</th>\n",
       "      <td>1.000000</td>\n",
       "      <td>5.500000</td>\n",
       "      <td>4.200000</td>\n",
       "      <td>3.500000</td>\n",
       "    </tr>\n",
       "    <tr>\n",
       "      <th>25%</th>\n",
       "      <td>3.000000</td>\n",
       "      <td>66.425000</td>\n",
       "      <td>51.075000</td>\n",
       "      <td>37.575000</td>\n",
       "    </tr>\n",
       "    <tr>\n",
       "      <th>50%</th>\n",
       "      <td>4.000000</td>\n",
       "      <td>111.100000</td>\n",
       "      <td>81.500000</td>\n",
       "      <td>59.500000</td>\n",
       "    </tr>\n",
       "    <tr>\n",
       "      <th>75%</th>\n",
       "      <td>5.000000</td>\n",
       "      <td>185.775000</td>\n",
       "      <td>132.175000</td>\n",
       "      <td>99.325000</td>\n",
       "    </tr>\n",
       "    <tr>\n",
       "      <th>max</th>\n",
       "      <td>9.000000</td>\n",
       "      <td>782.500000</td>\n",
       "      <td>571.200000</td>\n",
       "      <td>296.400000</td>\n",
       "    </tr>\n",
       "  </tbody>\n",
       "</table>\n",
       "</div>"
      ],
      "text/plain": [
       "         Số người    Thu nhập    Chi tiêu  Chi ăn uống\n",
       "count  420.000000  420.000000  420.000000   420.000000\n",
       "mean     3.904762  142.034524  103.881905    75.329762\n",
       "std      1.518533  110.477344   79.139046    52.249685\n",
       "min      1.000000    5.500000    4.200000     3.500000\n",
       "25%      3.000000   66.425000   51.075000    37.575000\n",
       "50%      4.000000  111.100000   81.500000    59.500000\n",
       "75%      5.000000  185.775000  132.175000    99.325000\n",
       "max      9.000000  782.500000  571.200000   296.400000"
      ]
     },
     "execution_count": 5,
     "metadata": {},
     "output_type": "execute_result"
    }
   ],
   "source": [
    "data.describe()"
   ]
  },
  {
   "cell_type": "code",
   "execution_count": 6,
   "metadata": {},
   "outputs": [],
   "source": [
    "def n_unique(col):\n",
    "    return col.nunique()\n",
    "\n",
    "def n_values(col):\n",
    "    return col.value_counts().to_dict()"
   ]
  },
  {
   "cell_type": "code",
   "execution_count": 7,
   "metadata": {},
   "outputs": [],
   "source": [
    "cat_cols = data.select_dtypes(exclude=np.number)\n",
    "cat_cols_stats = cat_cols.agg([n_unique, n_values])"
   ]
  },
  {
   "cell_type": "code",
   "execution_count": 8,
   "metadata": {},
   "outputs": [],
   "source": [
    "value_counts_dict = cat_cols_stats.loc[\"n_values\", \"Khu vực\"]\n",
    "cat_cols_stats = pd.DataFrame(value_counts_dict.items(), columns=[\"Giá trị\", \"Số lượng\"])"
   ]
  },
  {
   "cell_type": "code",
   "execution_count": 9,
   "metadata": {},
   "outputs": [
    {
     "data": {
      "text/html": [
       "<div>\n",
       "<style scoped>\n",
       "    .dataframe tbody tr th:only-of-type {\n",
       "        vertical-align: middle;\n",
       "    }\n",
       "\n",
       "    .dataframe tbody tr th {\n",
       "        vertical-align: top;\n",
       "    }\n",
       "\n",
       "    .dataframe thead th {\n",
       "        text-align: right;\n",
       "    }\n",
       "</style>\n",
       "<table border=\"1\" class=\"dataframe\">\n",
       "  <thead>\n",
       "    <tr style=\"text-align: right;\">\n",
       "      <th></th>\n",
       "      <th>Giá trị</th>\n",
       "      <th>Số lượng</th>\n",
       "    </tr>\n",
       "  </thead>\n",
       "  <tbody>\n",
       "    <tr>\n",
       "      <th>0</th>\n",
       "      <td>Nông thôn</td>\n",
       "      <td>237</td>\n",
       "    </tr>\n",
       "    <tr>\n",
       "      <th>1</th>\n",
       "      <td>Thành thị</td>\n",
       "      <td>183</td>\n",
       "    </tr>\n",
       "  </tbody>\n",
       "</table>\n",
       "</div>"
      ],
      "text/plain": [
       "     Giá trị  Số lượng\n",
       "0  Nông thôn       237\n",
       "1  Thành thị       183"
      ]
     },
     "execution_count": 9,
     "metadata": {},
     "output_type": "execute_result"
    }
   ],
   "source": [
    "cat_cols_stats"
   ]
  },
  {
   "cell_type": "code",
   "execution_count": 10,
   "metadata": {},
   "outputs": [
    {
     "data": {
      "image/png": "[encoded data removed]",
      "text/plain": [
       "<Figure size 800x800 with 1 Axes>"
      ]
     },
     "metadata": {},
     "output_type": "display_data"
    }
   ],
   "source": [
    "# ...existing code...\n",
    "\n",
    "# Data for the pie chart\n",
    "labels = [\"Nông thôn\", \"Thành thị\"]\n",
    "sizes = [237, 183]  # Số lượng tương ứng\n",
    "colors = [\"#ff9999\", \"#66b3ff\"]  # Màu sắc cho từng phần\n",
    "explode = (0.1, 0)  # Tách phần \"Nông thôn\" ra một chút\n",
    "\n",
    "# Plotting the pie chart\n",
    "plt.figure(figsize=(8, 8))\n",
    "plt.pie(sizes, labels=labels, colors=colors, explode=explode, autopct='%1.1f%%', startangle=90)\n",
    "plt.title(\"Tỷ lệ Nông thôn - Thành thị\")\n",
    "plt.axis(\"equal\")  # Đảm bảo biểu đồ tròn\n",
    "plt.show()"
   ]
  },
  {
   "cell_type": "markdown",
   "metadata": {},
   "source": [
    "### Bảng encoding biểu đồ:\n",
    "\n",
    "| **Thuộc tính dữ liệu**         | **Kênh mã hóa (Encoding Channel)** | **Kiểu mã hóa (Visual Encoding)**                                      |\n",
    "|--------------------------------|-------------------------------------|------------------------------------------------------------------------|\n",
    "| Khu vực (Nông thôn/Thành thị)  | Màu sắc (Color)                    | Mỗi khu vực có một màu khác nhau (ví dụ: đỏ nhạt, xanh dương)          |\n",
    "| Số lượng                       | Diện tích (Area)                   | Kích thước lát cắt của biểu đồ tròn thể hiện số lượng                  |\n",
    "| Tỷ lệ phần trăm (%)            | Nhãn (Text Label)                  | Hiển thị giá trị phần trăm trên từng lát cắt                          |\n",
    "| Khu vực có số lượng lớn nhất   | Popout (Explode)                   | Lát cắt lớn nhất được đẩy ra ngoài để nhấn mạnh                       |"
   ]
  },
  {
   "cell_type": "markdown",
   "metadata": {},
   "source": [
    "### Nhận xét nội dung từ biểu đồ\n",
    "\n",
    "- **Phân bố dân số**:\n",
    "  - Khu vực **Nông thôn** chiếm tỷ lệ lớn hơn với **237 người**, tương đương **56.4%** tổng số.\n",
    "  - Khu vực **Thành thị** có **183 người**, chiếm **43.6%**.\n",
    "\n",
    "- **Ý nghĩa**:\n",
    "  - Số lượng người ở khu vực Nông thôn cao hơn so với Thành thị, cho thấy sự tập trung dân cư nhiều hơn ở vùng nông thôn.\n",
    "  - Điều này có thể phản ánh đặc điểm kinh tế, xã hội hoặc cơ cấu dân số của khu vực được khảo sát.\n",
    "\n",
    "- **Ứng dụng**:\n",
    "  - Thông tin này có thể được sử dụng để lập kế hoạch phát triển kinh tế, phân bổ nguồn lực hoặc xây dựng chính sách phù hợp với từng khu vực."
   ]
  },
  {
   "cell_type": "markdown",
   "metadata": {},
   "source": []
  }
 ],
 "metadata": {
  "kernelspec": {
   "display_name": "base",
   "language": "python",
   "name": "python3"
  },
  "language_info": {
   "codemirror_mode": {
    "name": "ipython",
    "version": 3
   },
   "file_extension": ".py",
   "mimetype": "text/x-python",
   "name": "python",
   "nbconvert_exporter": "python",
   "pygments_lexer": "ipython3",
   "version": "3.12.7"
  }
 },
 "nbformat": 4,
 "nbformat_minor": 4
}
